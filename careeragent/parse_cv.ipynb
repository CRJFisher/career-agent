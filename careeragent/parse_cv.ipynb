{
 "cells": [
  {
   "cell_type": "markdown",
   "metadata": {},
   "source": [
    "# Parse CVs\n",
    "\n",
    "Here we want to parse a typical CV from a PDF and extract the key details"
   ]
  },
  {
   "cell_type": "markdown",
   "metadata": {},
   "source": [
    "## Step 0: Load environment variables using dotenv\n",
    "\n",
    "This is a simple way to load environment variables from a `.env` file. This is useful for storing sensitive information like API keys and other secrets."
   ]
  },
  {
   "cell_type": "code",
   "execution_count": null,
   "metadata": {},
   "outputs": [
    {
     "ename": "",
     "evalue": "",
     "output_type": "error",
     "traceback": [
      "\u001b[1;31mRunning cells with 'Python 3.10.0' requires the ipykernel package.\n",
      "\u001b[1;31mRun the following command to install 'ipykernel' into the Python environment. \n",
      "\u001b[1;31mCommand: '/usr/local/bin/python3 -m pip install ipykernel -U --user --force-reinstall'"
     ]
    }
   ],
   "source": [
    "from dotenv import load_dotenv\n",
    "load_dotenv()"
   ]
  },
  {
   "cell_type": "markdown",
   "metadata": {},
   "source": [
    "## Step 1:\n",
    "\n",
    "- Copy a test CV into the `data/` folder (which is gitignored to maintain privacy)\n",
    "- Load the CV into memory"
   ]
  },
  {
   "cell_type": "code",
   "execution_count": null,
   "metadata": {},
   "outputs": [],
   "source": [
    "from pypdf import PdfReader\n",
    "\n",
    "# Path to the PDF file\n",
    "pdf_path = 'data/cv.pdf'  # TODO: Change this to the path of your PDF file\n",
    "\n",
    "# Open the PDF file\n",
    "reader = PdfReader(pdf_path)\n",
    "\n",
    "# Get the number of pages in the PDF\n",
    "num_pages = len(reader.pages)\n",
    "\n",
    "full_text = \"\"\n",
    "# Iterate through each page and extract text\n",
    "for page_num in range(num_pages):\n",
    "    page = reader.pages[page_num]\n",
    "    text = page.extract_text()\n",
    "    full_text += text\n",
    "\n",
    "print(f\"Extracted text from {num_pages} pages\")\n",
    "full_text"
   ]
  },
  {
   "cell_type": "markdown",
   "metadata": {},
   "source": [
    "## Step 2: split the CV into sections\n",
    "\n",
    "- Prepend line numbers to the text\n",
    "    - Split the text string by newlines `\\n`\n",
    "- Use a model which returns a structured output. See the [langchain documentation](https://python.langchain.com/v0.2/docs/how_to/structured_output/) for more information.\n",
    "- Try outputting as Pydantic classes as in the docs\n",
    "- Create a prompt to return the start and end lines of predefined sections (e.g. \"Education\", \"Experience\", \"Skills\" etc)\n",
    "    - Output something like:\n",
    "    ```json\n",
    "    {\n",
    "        \"Education\": {\n",
    "            \"start\": 10,\n",
    "            \"end\": 20\n",
    "        },\n",
    "        \"Experience\": {\n",
    "            \"start\": 30,\n",
    "            \"end\": 40\n",
    "        },\n",
    "        ...\n",
    "    }\n",
    "    ```\n",
    "- Use these line numbers to extract the relevant sections\n"
   ]
  },
  {
   "cell_type": "code",
   "execution_count": null,
   "metadata": {},
   "outputs": [],
   "source": [
    "from langchain_openai import ChatOpenAI\n",
    "\n",
    "llm = ChatOpenAI(model=\"gpt-4o-mini\")"
   ]
  },
  {
   "cell_type": "markdown",
   "metadata": {},
   "source": [
    "## Step 3: use langchain to parse the CV data\n",
    "\n",
    "- For each section, use a prompt to extract the different key details from the CV.\n",
    "- Again, try outputting as Pydantic classes\n"
   ]
  },
  {
   "cell_type": "code",
   "execution_count": null,
   "metadata": {},
   "outputs": [],
   "source": []
  }
 ],
 "metadata": {
  "kernelspec": {
   "display_name": "Python 3",
   "language": "python",
   "name": "python3"
  },
  "language_info": {
   "codemirror_mode": {
    "name": "ipython",
    "version": 3
   },
   "file_extension": ".py",
   "mimetype": "text/x-python",
   "name": "python",
   "nbconvert_exporter": "python",
   "pygments_lexer": "ipython3",
   "version": "3.10.0"
  }
 },
 "nbformat": 4,
 "nbformat_minor": 2
}
